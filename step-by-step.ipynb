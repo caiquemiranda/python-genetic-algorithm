{
 "cells": [
  {
   "cell_type": "markdown",
   "metadata": {},
   "source": [
    "### Problema\n",
    "\n",
    "Em uma trasnportadora com caminhoes de espaço interno do baú de 3m³ temos que alocar produtos que em sua soma total ocupam 4.79m³, qual melhor alocação de produtos para gerar o maior lucro, tendo em mente ocupar os caminhão com os produtos com maior lucro?"
   ]
  },
  {
   "cell_type": "code",
   "execution_count": 102,
   "metadata": {},
   "outputs": [],
   "source": [
    "from random import random\n",
    "import matplotlib.pyplot as plt"
   ]
  },
  {
   "cell_type": "code",
   "execution_count": 103,
   "metadata": {},
   "outputs": [],
   "source": [
    "class Produto():\n",
    "    def __init__(self, nome, espaco, valor):\n",
    "        self.nome = nome\n",
    "        self.espaco = espaco\n",
    "        self.valor = valor       "
   ]
  },
  {
   "cell_type": "code",
   "execution_count": 104,
   "metadata": {},
   "outputs": [],
   "source": [
    "lista_produtos = []\n",
    "lista_produtos.append(Produto('Geladeira Dako', 0.751, 999.90))\n",
    "lista_produtos.append(Produto('Iphone 6', 0.0000899, 2911.12))\n",
    "lista_produtos.append(Produto('TV 55', 0.400, 4346.99))\n",
    "lista_produtos.append(Produto('TV 50', 0.290, 3999.90))\n",
    "lista_produtos.append(Produto('TV 42', 0.200, 2999.90))\n",
    "lista_produtos.append(Produto('Notebook Dell', 0.00350, 2499.90))\n",
    "lista_produtos.append(Produto('Ventilador Panasonic', 0.496, 199.90))\n",
    "lista_produtos.append(Produto('Microondas Eletrolux', 0.0424, 308.66))\n",
    "lista_produtos.append(Produto('Microondas LG', 0.0544, 429.90))\n",
    "lista_produtos.append(Produto('Microondas Panasonic', 0.0319, 299.29))\n",
    "lista_produtos.append(Produto('Geladeira Brastemp', 0.635, 849.00))\n",
    "lista_produtos.append(Produto('Geladeira Consul', 0.870, 1199.89))\n",
    "lista_produtos.append(Produto('Notebook Lenovo', 0.498, 1999.90))\n",
    "lista_produtos.append(Produto('Notebook Asus', 0.527, 3999.90))"
   ]
  },
  {
   "cell_type": "code",
   "execution_count": 105,
   "metadata": {},
   "outputs": [
    {
     "name": "stdout",
     "output_type": "stream",
     "text": [
      "<__main__.Produto object at 0x000001E68A5FFE50>\n",
      "<__main__.Produto object at 0x000001E68A5FFEE0>\n",
      "<__main__.Produto object at 0x000001E68A5FFE80>\n",
      "<__main__.Produto object at 0x000001E68A5FFF70>\n",
      "<__main__.Produto object at 0x000001E68A5FFD30>\n",
      "<__main__.Produto object at 0x000001E68A5FFEB0>\n",
      "<__main__.Produto object at 0x000001E68A5F3040>\n",
      "<__main__.Produto object at 0x000001E68A5F30A0>\n",
      "<__main__.Produto object at 0x000001E68A5F3100>\n",
      "<__main__.Produto object at 0x000001E68A5F3160>\n",
      "<__main__.Produto object at 0x000001E68A5F31C0>\n",
      "<__main__.Produto object at 0x000001E68A5F3220>\n",
      "<__main__.Produto object at 0x000001E68A5F3280>\n",
      "<__main__.Produto object at 0x000001E6CCBB2F40>\n"
     ]
    }
   ],
   "source": [
    "for produto in lista_produtos:\n",
    "    print(produto)"
   ]
  },
  {
   "cell_type": "code",
   "execution_count": 106,
   "metadata": {},
   "outputs": [],
   "source": [
    "class Individuo():\n",
    "    def __init__(self, espacos, valores, limite_esoacos, geracao=0):\n",
    "        self.espacos = espacos\n",
    "        self.valores = valores\n",
    "        self.limite_espacos = limite_esoacos\n",
    "        self.geracao = geracao\n",
    "        self.nota_avaliacao = 0\n",
    "        self.espaco_usado = 0\n",
    "        self.cromossomo = []\n",
    "\n",
    "        for i in range(len(espacos)):\n",
    "            if random() < 0.5:\n",
    "                self.cromossomo.append('0')\n",
    "            else:\n",
    "                self.cromossomo.append('1')\n",
    "    \n",
    "    def avaliacao(self):\n",
    "        nota = 0 \n",
    "        soma_espacos = 0\n",
    "        for i in range(len(self.cromossomo)):\n",
    "            if self.cromossomo[i] == '1':\n",
    "                nota += self.valores[i]\n",
    "                soma_espacos += self.espacos[i]\n",
    "        \n",
    "        if soma_espacos > self.limite_espacos:\n",
    "            nota = 1\n",
    "\n",
    "        self.nota_avaliacao = nota\n",
    "        self.espaco_usado = soma_espacos\n",
    "    \n",
    "    def crossover(self, outro_individuo):\n",
    "        corte = round(random() * len(self.cromossomo))\n",
    "        \n",
    "        filho1 = outro_individuo.cromossomo[0:corte] + self.cromossomo[corte::]\n",
    "        filho2 = self.cromossomo[0:corte] + outro_individuo.cromossomo[corte::]\n",
    "\n",
    "        filhos = [Individuo(self.espacos, self.valores, self.limite_espacos, self.geracao + 1),\n",
    "                  Individuo(self.espacos, self.valores, self.limite_espacos, self.geracao + 1)]\n",
    "\n",
    "        filhos[0].cromossomo = filho1\n",
    "        filhos[1].cromossomo = filho2\n",
    "        \n",
    "        return filhos\n",
    "\n",
    "    def mutacao(self, taxa_mutacao):\n",
    "        #print('Antes %s' % self.cromossomo)\n",
    "        for i in range(len(self.cromossomo)):\n",
    "            if random() < taxa_mutacao:\n",
    "                if self.cromossomo[i] =='1':\n",
    "                    self.cromossomo[i] = '0'\n",
    "                else:\n",
    "                    self.cromossomo[i] = '1'\n",
    "        \n",
    "        #print('Depois %s' % self.cromossomo)\n",
    "        return self\n"
   ]
  },
  {
   "cell_type": "code",
   "execution_count": 107,
   "metadata": {},
   "outputs": [],
   "source": [
    "class AlgoritimoGenetico():\n",
    "    def __init__(self, tamanho_populacao):\n",
    "        self.tamanho_populacao = tamanho_populacao\n",
    "        self.populacao = []\n",
    "        self.geracao = 0\n",
    "        self.melhor_solucao = 0\n",
    "        \n",
    "        # visualização do grafico\n",
    "        self.lista_solucoes = []\n",
    "\n",
    "    def inicializa_populacao(self, espacos, valores, limite_espacos):\n",
    "        for i in range(self.tamanho_populacao):\n",
    "            self.populacao.append(Individuo(espacos, valores, limite_espacos))\n",
    "        self.melhor_solucao = self.populacao[0]\n",
    "    \n",
    "    def ordena_populacao(self):\n",
    "        self.populacao = sorted(self.populacao, \n",
    "                                key = lambda populacao: populacao.nota_avaliacao, \n",
    "                                reverse=True)\n",
    "\n",
    "    def melhor_individuo(self, individuo):\n",
    "        if individuo.nota_avaliacao > self.melhor_solucao.nota_avaliacao:\n",
    "            self.melhor_solucao = individuo\n",
    "    \n",
    "    def soma_avaliacoes(self):\n",
    "        soma = 0 \n",
    "        for individuo in self.populacao:\n",
    "            soma += individuo.nota_avaliacao\n",
    "        \n",
    "        return soma\n",
    "    \n",
    "    def seleciona_pai(self, soma_avaliacao):\n",
    "        pai = -1\n",
    "        valor_sorteado = random()*soma_avaliacao\n",
    "        soma = 0 \n",
    "        i = 0 \n",
    "        while i < len(self.populacao) and soma < valor_sorteado:\n",
    "            soma += self.populacao[i].nota_avaliacao\n",
    "            pai += 1 \n",
    "            i += 1\n",
    "        \n",
    "        return pai\n",
    "    \n",
    "    def visualiza_geracao(self):\n",
    "        melhor = self.populacao[0]\n",
    "        print('G:%s  -> Valor %s Espaço: %s Cromossomo: %s ' % (self.populacao[0].geracao,\n",
    "                                                                melhor.nota_avaliacao,\n",
    "                                                                melhor.espaco_usado, \n",
    "                                                                melhor.cromossomo))\n",
    "        \n",
    "    def resolver(self, taxa_mutacao, numero_geracoes, espacos, valores, limite_espacos):\n",
    "        self.inicializa_populacao(espacos, valores, limite_espacos)\n",
    "\n",
    "        for individuo in self.populacao:\n",
    "            individuo.avaliacao()\n",
    "        \n",
    "        self.ordena_populacao()\n",
    "\n",
    "        self.melhor_solucao = self.populacao[0]\n",
    "        self.lista_solucoes.append(self.melhor_solucao.nota_avaliacao)\n",
    "\n",
    "        self.visualiza_geracao()\n",
    "\n",
    "        for geracao in range(numero_geracoes):\n",
    "            soma_avaliacao = self.soma_avaliacoes()\n",
    "            nova_populacao = []\n",
    "\n",
    "            for individuo_gerados in range(0, self.tamanho_populacao, 2):\n",
    "                pai1 = self.seleciona_pai(soma_avaliacao)\n",
    "                pai2 = self.seleciona_pai(soma_avaliacao)\n",
    "\n",
    "                filhos = self.populacao[pai1].crossover(self.populacao[pai2])\n",
    "\n",
    "                nova_populacao.append(filhos[0].mutacao(taxa_mutacao))\n",
    "                nova_populacao.append(filhos[1].mutacao(taxa_mutacao))\n",
    "\n",
    "            self.populacao = list(nova_populacao)\n",
    "            \n",
    "            for individuo in self.populacao:\n",
    "                individuo.avaliacao()\n",
    "\n",
    "            self.ordena_populacao()\n",
    "\n",
    "            self.visualiza_geracao()\n",
    "\n",
    "            melhor = self.populacao[0]\n",
    "            self.lista_solucoes.append(melhor.nota_avaliacao)\n",
    "            self.melhor_individuo(melhor)\n",
    "\n",
    "        print('\\n Melhor Solução --> G: %s Valor: %s Espaço: %s Cromossomo: %s' % \n",
    "                (self.melhor_solucao.geracao,\n",
    "                 self.melhor_solucao.nota_avaliacao,\n",
    "                 self.melhor_solucao.espaco_usado,\n",
    "                 self.melhor_solucao.cromossomo))\n",
    "        \n",
    "        return melhor.cromossomo\n"
   ]
  },
  {
   "cell_type": "code",
   "execution_count": 108,
   "metadata": {},
   "outputs": [],
   "source": [
    "espacos = []\n",
    "valores = []\n",
    "nomes = []\n",
    "for produto in lista_produtos:\n",
    "    espacos.append(produto.espaco)\n",
    "    valores.append(produto.valor)\n",
    "    nomes.append(produto.nome)"
   ]
  },
  {
   "cell_type": "code",
   "execution_count": 109,
   "metadata": {},
   "outputs": [
    {
     "name": "stdout",
     "output_type": "stream",
     "text": [
      "[0.751, 8.99e-05, 0.4, 0.29, 0.2, 0.0035, 0.496, 0.0424, 0.0544, 0.0319, 0.635, 0.87, 0.498, 0.527]\n",
      "[999.9, 2911.12, 4346.99, 3999.9, 2999.9, 2499.9, 199.9, 308.66, 429.9, 299.29, 849.0, 1199.89, 1999.9, 3999.9]\n",
      "['Geladeira Dako', 'Iphone 6', 'TV 55', 'TV 50', 'TV 42', 'Notebook Dell', 'Ventilador Panasonic', 'Microondas Eletrolux', 'Microondas LG', 'Microondas Panasonic', 'Geladeira Brastemp', 'Geladeira Consul', 'Notebook Lenovo', 'Notebook Asus']\n"
     ]
    },
    {
     "data": {
      "text/plain": [
       "(None, None, None)"
      ]
     },
     "execution_count": 109,
     "metadata": {},
     "output_type": "execute_result"
    }
   ],
   "source": [
    "print(espacos), print(valores), print(nomes)"
   ]
  },
  {
   "cell_type": "code",
   "execution_count": 110,
   "metadata": {},
   "outputs": [],
   "source": [
    "limite = 3\n",
    "\n",
    "individuo1 = Individuo(espacos, valores, limite)"
   ]
  },
  {
   "cell_type": "code",
   "execution_count": 111,
   "metadata": {},
   "outputs": [
    {
     "name": "stdout",
     "output_type": "stream",
     "text": [
      "Espaços = [0.751, 8.99e-05, 0.4, 0.29, 0.2, 0.0035, 0.496, 0.0424, 0.0544, 0.0319, 0.635, 0.87, 0.498, 0.527]\n",
      "Valores = [999.9, 2911.12, 4346.99, 3999.9, 2999.9, 2499.9, 199.9, 308.66, 429.9, 299.29, 849.0, 1199.89, 1999.9, 3999.9]\n",
      "Cromossomo = ['1', '0', '1', '1', '1', '0', '0', '0', '0', '1', '1', '0', '1', '1']\n"
     ]
    }
   ],
   "source": [
    "print('Espaços = %s' % str(individuo1.espacos))\n",
    "print('Valores = %s' % str(individuo1.valores))\n",
    "print('Cromossomo = %s' % str(individuo1.cromossomo))"
   ]
  },
  {
   "cell_type": "code",
   "execution_count": 112,
   "metadata": {},
   "outputs": [
    {
     "name": "stdout",
     "output_type": "stream",
     "text": [
      "Componentes da carga\n",
      "Nome: Geladeira Dako R$ 999.9 \n",
      "Nome: TV 55 R$ 4346.99 \n",
      "Nome: TV 50 R$ 3999.9 \n",
      "Nome: TV 42 R$ 2999.9 \n",
      "Nome: Microondas Panasonic R$ 299.29 \n",
      "Nome: Geladeira Brastemp R$ 849.0 \n",
      "Nome: Notebook Lenovo R$ 1999.9 \n",
      "Nome: Notebook Asus R$ 3999.9 \n"
     ]
    }
   ],
   "source": [
    "print('Componentes da carga')\n",
    "for i in range(len(lista_produtos)):\n",
    "    if individuo1.cromossomo[i] == '1':\n",
    "        print('Nome: %s R$ %s ' % (lista_produtos[i].nome, lista_produtos[i].valor))"
   ]
  },
  {
   "cell_type": "code",
   "execution_count": 113,
   "metadata": {},
   "outputs": [],
   "source": [
    "individuo1.avaliacao()"
   ]
  },
  {
   "cell_type": "code",
   "execution_count": 114,
   "metadata": {},
   "outputs": [
    {
     "name": "stdout",
     "output_type": "stream",
     "text": [
      "Nota: 1 \n",
      "Espaço usado: 3.3329000000000004 \n"
     ]
    }
   ],
   "source": [
    "print('Nota: %s ' % (individuo1.nota_avaliacao))\n",
    "print('Espaço usado: %s ' % (individuo1.espaco_usado))"
   ]
  },
  {
   "cell_type": "code",
   "execution_count": 115,
   "metadata": {},
   "outputs": [
    {
     "name": "stdout",
     "output_type": "stream",
     "text": [
      "\n",
      "Individuo 1\n",
      "Componentes da carga\n",
      "Nome: Geladeira Dako R$ 999.9 \n",
      "Nome: TV 55 R$ 4346.99 \n",
      "Nome: TV 50 R$ 3999.9 \n",
      "Nome: TV 42 R$ 2999.9 \n",
      "Nome: Microondas Panasonic R$ 299.29 \n",
      "Nome: Geladeira Brastemp R$ 849.0 \n",
      "Nome: Notebook Lenovo R$ 1999.9 \n",
      "Nome: Notebook Asus R$ 3999.9 \n",
      "Nota: 1 \n",
      "Espaço usado: 3.3329000000000004 \n"
     ]
    }
   ],
   "source": [
    "print('\\nIndividuo 1')\n",
    "print('Componentes da carga')\n",
    "for i in range(len(lista_produtos)):\n",
    "    if individuo1.cromossomo[i] == '1':\n",
    "        print('Nome: %s R$ %s ' % (lista_produtos[i].nome, lista_produtos[i].valor))\n",
    "individuo1.avaliacao()\n",
    "print('Nota: %s ' % (individuo1.nota_avaliacao))\n",
    "print('Espaço usado: %s ' % (individuo1.espaco_usado))"
   ]
  },
  {
   "cell_type": "code",
   "execution_count": 116,
   "metadata": {},
   "outputs": [],
   "source": [
    "individuo2 = Individuo(espacos, valores, limite)"
   ]
  },
  {
   "cell_type": "code",
   "execution_count": 117,
   "metadata": {},
   "outputs": [],
   "source": [
    "individuo2.avaliacao()"
   ]
  },
  {
   "cell_type": "code",
   "execution_count": 118,
   "metadata": {},
   "outputs": [
    {
     "name": "stdout",
     "output_type": "stream",
     "text": [
      "\n",
      "Individuo 2\n",
      "Componentes da carga\n",
      "Nome: Geladeira Dako R$ 999.9 \n",
      "Nome: TV 55 R$ 4346.99 \n",
      "Nome: TV 50 R$ 3999.9 \n",
      "Nome: Microondas Eletrolux R$ 308.66 \n",
      "Nome: Notebook Lenovo R$ 1999.9 \n",
      "Nota: 11655.349999999999 \n",
      "Espaço usado: 1.9814 \n"
     ]
    }
   ],
   "source": [
    "print('\\nIndividuo 2')\n",
    "print('Componentes da carga')\n",
    "for i in range(len(lista_produtos)):\n",
    "    if individuo2.cromossomo[i] == '1':\n",
    "        print('Nome: %s R$ %s ' % (lista_produtos[i].nome, lista_produtos[i].valor))\n",
    "individuo1.avaliacao()\n",
    "print('Nota: %s ' % (individuo2.nota_avaliacao))\n",
    "print('Espaço usado: %s ' % (individuo2.espaco_usado))"
   ]
  },
  {
   "cell_type": "code",
   "execution_count": 119,
   "metadata": {},
   "outputs": [
    {
     "data": {
      "text/plain": [
       "<__main__.Individuo at 0x1e6cc9edb20>"
      ]
     },
     "execution_count": 119,
     "metadata": {},
     "output_type": "execute_result"
    }
   ],
   "source": [
    "individuo1.mutacao(0.05)\n",
    "individuo2.mutacao(0.05)"
   ]
  },
  {
   "cell_type": "code",
   "execution_count": 120,
   "metadata": {},
   "outputs": [
    {
     "name": "stdout",
     "output_type": "stream",
     "text": [
      "*** Individuo 0*** \n",
      " Espaços = [0.751, 8.99e-05, 0.4, 0.29, 0.2, 0.0035, 0.496, 0.0424, 0.0544, 0.0319, 0.635, 0.87, 0.498, 0.527] \n",
      " Valores = [999.9, 2911.12, 4346.99, 3999.9, 2999.9, 2499.9, 199.9, 308.66, 429.9, 299.29, 849.0, 1199.89, 1999.9, 3999.9] \n",
      " Cromossomo = ['0', '1', '1', '1', '1', '1', '0', '0', '0', '0', '1', '0', '0', '1'] \n",
      " Nota = 21606.710000000003 \n",
      "\n",
      "*** Individuo 1*** \n",
      " Espaços = [0.751, 8.99e-05, 0.4, 0.29, 0.2, 0.0035, 0.496, 0.0424, 0.0544, 0.0319, 0.635, 0.87, 0.498, 0.527] \n",
      " Valores = [999.9, 2911.12, 4346.99, 3999.9, 2999.9, 2499.9, 199.9, 308.66, 429.9, 299.29, 849.0, 1199.89, 1999.9, 3999.9] \n",
      " Cromossomo = ['1', '0', '1', '1', '1', '1', '0', '1', '0', '1', '0', '0', '1', '1'] \n",
      " Nota = 21454.34 \n",
      "\n",
      "*** Individuo 2*** \n",
      " Espaços = [0.751, 8.99e-05, 0.4, 0.29, 0.2, 0.0035, 0.496, 0.0424, 0.0544, 0.0319, 0.635, 0.87, 0.498, 0.527] \n",
      " Valores = [999.9, 2911.12, 4346.99, 3999.9, 2999.9, 2499.9, 199.9, 308.66, 429.9, 299.29, 849.0, 1199.89, 1999.9, 3999.9] \n",
      " Cromossomo = ['0', '0', '1', '1', '0', '1', '0', '0', '0', '0', '0', '1', '1', '1'] \n",
      " Nota = 18046.48 \n",
      "\n",
      "*** Individuo 3*** \n",
      " Espaços = [0.751, 8.99e-05, 0.4, 0.29, 0.2, 0.0035, 0.496, 0.0424, 0.0544, 0.0319, 0.635, 0.87, 0.498, 0.527] \n",
      " Valores = [999.9, 2911.12, 4346.99, 3999.9, 2999.9, 2499.9, 199.9, 308.66, 429.9, 299.29, 849.0, 1199.89, 1999.9, 3999.9] \n",
      " Cromossomo = ['0', '1', '0', '1', '1', '1', '0', '0', '1', '0', '1', '1', '1', '0'] \n",
      " Nota = 16889.51 \n",
      "\n",
      "*** Individuo 4*** \n",
      " Espaços = [0.751, 8.99e-05, 0.4, 0.29, 0.2, 0.0035, 0.496, 0.0424, 0.0544, 0.0319, 0.635, 0.87, 0.498, 0.527] \n",
      " Valores = [999.9, 2911.12, 4346.99, 3999.9, 2999.9, 2499.9, 199.9, 308.66, 429.9, 299.29, 849.0, 1199.89, 1999.9, 3999.9] \n",
      " Cromossomo = ['1', '1', '1', '0', '1', '0', '1', '0', '1', '1', '0', '0', '0', '1'] \n",
      " Nota = 16186.9 \n",
      "\n",
      "*** Individuo 5*** \n",
      " Espaços = [0.751, 8.99e-05, 0.4, 0.29, 0.2, 0.0035, 0.496, 0.0424, 0.0544, 0.0319, 0.635, 0.87, 0.498, 0.527] \n",
      " Valores = [999.9, 2911.12, 4346.99, 3999.9, 2999.9, 2499.9, 199.9, 308.66, 429.9, 299.29, 849.0, 1199.89, 1999.9, 3999.9] \n",
      " Cromossomo = ['1', '1', '0', '0', '1', '1', '1', '1', '1', '0', '0', '1', '0', '1'] \n",
      " Nota = 15549.069999999998 \n",
      "\n",
      "*** Individuo 6*** \n",
      " Espaços = [0.751, 8.99e-05, 0.4, 0.29, 0.2, 0.0035, 0.496, 0.0424, 0.0544, 0.0319, 0.635, 0.87, 0.498, 0.527] \n",
      " Valores = [999.9, 2911.12, 4346.99, 3999.9, 2999.9, 2499.9, 199.9, 308.66, 429.9, 299.29, 849.0, 1199.89, 1999.9, 3999.9] \n",
      " Cromossomo = ['0', '0', '1', '1', '0', '1', '0', '0', '0', '1', '1', '1', '1', '0'] \n",
      " Nota = 15194.869999999999 \n",
      "\n",
      "*** Individuo 7*** \n",
      " Espaços = [0.751, 8.99e-05, 0.4, 0.29, 0.2, 0.0035, 0.496, 0.0424, 0.0544, 0.0319, 0.635, 0.87, 0.498, 0.527] \n",
      " Valores = [999.9, 2911.12, 4346.99, 3999.9, 2999.9, 2499.9, 199.9, 308.66, 429.9, 299.29, 849.0, 1199.89, 1999.9, 3999.9] \n",
      " Cromossomo = ['0', '0', '1', '0', '0', '1', '0', '0', '1', '1', '0', '1', '0', '1'] \n",
      " Nota = 12775.869999999999 \n",
      "\n",
      "*** Individuo 8*** \n",
      " Espaços = [0.751, 8.99e-05, 0.4, 0.29, 0.2, 0.0035, 0.496, 0.0424, 0.0544, 0.0319, 0.635, 0.87, 0.498, 0.527] \n",
      " Valores = [999.9, 2911.12, 4346.99, 3999.9, 2999.9, 2499.9, 199.9, 308.66, 429.9, 299.29, 849.0, 1199.89, 1999.9, 3999.9] \n",
      " Cromossomo = ['0', '1', '0', '0', '1', '0', '1', '1', '0', '1', '1', '1', '0', '1'] \n",
      " Nota = 12767.66 \n",
      "\n",
      "*** Individuo 9*** \n",
      " Espaços = [0.751, 8.99e-05, 0.4, 0.29, 0.2, 0.0035, 0.496, 0.0424, 0.0544, 0.0319, 0.635, 0.87, 0.498, 0.527] \n",
      " Valores = [999.9, 2911.12, 4346.99, 3999.9, 2999.9, 2499.9, 199.9, 308.66, 429.9, 299.29, 849.0, 1199.89, 1999.9, 3999.9] \n",
      " Cromossomo = ['1', '0', '0', '1', '1', '1', '1', '0', '0', '0', '0', '0', '1', '0'] \n",
      " Nota = 12699.4 \n",
      "\n",
      "*** Individuo 10*** \n",
      " Espaços = [0.751, 8.99e-05, 0.4, 0.29, 0.2, 0.0035, 0.496, 0.0424, 0.0544, 0.0319, 0.635, 0.87, 0.498, 0.527] \n",
      " Valores = [999.9, 2911.12, 4346.99, 3999.9, 2999.9, 2499.9, 199.9, 308.66, 429.9, 299.29, 849.0, 1199.89, 1999.9, 3999.9] \n",
      " Cromossomo = ['0', '0', '1', '0', '0', '0', '0', '0', '1', '0', '0', '1', '1', '1'] \n",
      " Nota = 11976.58 \n",
      "\n",
      "*** Individuo 11*** \n",
      " Espaços = [0.751, 8.99e-05, 0.4, 0.29, 0.2, 0.0035, 0.496, 0.0424, 0.0544, 0.0319, 0.635, 0.87, 0.498, 0.527] \n",
      " Valores = [999.9, 2911.12, 4346.99, 3999.9, 2999.9, 2499.9, 199.9, 308.66, 429.9, 299.29, 849.0, 1199.89, 1999.9, 3999.9] \n",
      " Cromossomo = ['1', '1', '0', '0', '1', '0', '0', '0', '0', '1', '1', '1', '1', '0'] \n",
      " Nota = 11259.0 \n",
      "\n",
      "*** Individuo 12*** \n",
      " Espaços = [0.751, 8.99e-05, 0.4, 0.29, 0.2, 0.0035, 0.496, 0.0424, 0.0544, 0.0319, 0.635, 0.87, 0.498, 0.527] \n",
      " Valores = [999.9, 2911.12, 4346.99, 3999.9, 2999.9, 2499.9, 199.9, 308.66, 429.9, 299.29, 849.0, 1199.89, 1999.9, 3999.9] \n",
      " Cromossomo = ['0', '0', '0', '1', '0', '0', '0', '1', '0', '1', '0', '1', '0', '1'] \n",
      " Nota = 9807.640000000001 \n",
      "\n",
      "*** Individuo 13*** \n",
      " Espaços = [0.751, 8.99e-05, 0.4, 0.29, 0.2, 0.0035, 0.496, 0.0424, 0.0544, 0.0319, 0.635, 0.87, 0.498, 0.527] \n",
      " Valores = [999.9, 2911.12, 4346.99, 3999.9, 2999.9, 2499.9, 199.9, 308.66, 429.9, 299.29, 849.0, 1199.89, 1999.9, 3999.9] \n",
      " Cromossomo = ['0', '0', '0', '0', '1', '0', '0', '1', '1', '1', '1', '1', '0', '0'] \n",
      " Nota = 6086.64 \n",
      "\n",
      "*** Individuo 14*** \n",
      " Espaços = [0.751, 8.99e-05, 0.4, 0.29, 0.2, 0.0035, 0.496, 0.0424, 0.0544, 0.0319, 0.635, 0.87, 0.498, 0.527] \n",
      " Valores = [999.9, 2911.12, 4346.99, 3999.9, 2999.9, 2499.9, 199.9, 308.66, 429.9, 299.29, 849.0, 1199.89, 1999.9, 3999.9] \n",
      " Cromossomo = ['1', '0', '0', '0', '1', '0', '0', '1', '0', '0', '0', '1', '0', '0'] \n",
      " Nota = 5508.35 \n",
      "\n",
      "*** Individuo 15*** \n",
      " Espaços = [0.751, 8.99e-05, 0.4, 0.29, 0.2, 0.0035, 0.496, 0.0424, 0.0544, 0.0319, 0.635, 0.87, 0.498, 0.527] \n",
      " Valores = [999.9, 2911.12, 4346.99, 3999.9, 2999.9, 2499.9, 199.9, 308.66, 429.9, 299.29, 849.0, 1199.89, 1999.9, 3999.9] \n",
      " Cromossomo = ['1', '0', '0', '0', '0', '1', '1', '1', '0', '0', '1', '0', '0', '0'] \n",
      " Nota = 4857.360000000001 \n",
      "\n",
      "*** Individuo 16*** \n",
      " Espaços = [0.751, 8.99e-05, 0.4, 0.29, 0.2, 0.0035, 0.496, 0.0424, 0.0544, 0.0319, 0.635, 0.87, 0.498, 0.527] \n",
      " Valores = [999.9, 2911.12, 4346.99, 3999.9, 2999.9, 2499.9, 199.9, 308.66, 429.9, 299.29, 849.0, 1199.89, 1999.9, 3999.9] \n",
      " Cromossomo = ['0', '0', '0', '0', '0', '0', '1', '1', '1', '0', '0', '1', '0', '0'] \n",
      " Nota = 2138.3500000000004 \n",
      "\n",
      "*** Individuo 17*** \n",
      " Espaços = [0.751, 8.99e-05, 0.4, 0.29, 0.2, 0.0035, 0.496, 0.0424, 0.0544, 0.0319, 0.635, 0.87, 0.498, 0.527] \n",
      " Valores = [999.9, 2911.12, 4346.99, 3999.9, 2999.9, 2499.9, 199.9, 308.66, 429.9, 299.29, 849.0, 1199.89, 1999.9, 3999.9] \n",
      " Cromossomo = ['0', '0', '1', '1', '1', '1', '1', '1', '1', '1', '0', '1', '1', '1'] \n",
      " Nota = 1 \n",
      "\n",
      "*** Individuo 18*** \n",
      " Espaços = [0.751, 8.99e-05, 0.4, 0.29, 0.2, 0.0035, 0.496, 0.0424, 0.0544, 0.0319, 0.635, 0.87, 0.498, 0.527] \n",
      " Valores = [999.9, 2911.12, 4346.99, 3999.9, 2999.9, 2499.9, 199.9, 308.66, 429.9, 299.29, 849.0, 1199.89, 1999.9, 3999.9] \n",
      " Cromossomo = ['1', '0', '1', '1', '1', '1', '0', '1', '0', '0', '0', '1', '1', '1'] \n",
      " Nota = 1 \n",
      "\n",
      "*** Individuo 19*** \n",
      " Espaços = [0.751, 8.99e-05, 0.4, 0.29, 0.2, 0.0035, 0.496, 0.0424, 0.0544, 0.0319, 0.635, 0.87, 0.498, 0.527] \n",
      " Valores = [999.9, 2911.12, 4346.99, 3999.9, 2999.9, 2499.9, 199.9, 308.66, 429.9, 299.29, 849.0, 1199.89, 1999.9, 3999.9] \n",
      " Cromossomo = ['1', '1', '1', '1', '1', '0', '0', '1', '1', '1', '1', '0', '1', '1'] \n",
      " Nota = 1 \n",
      "\n"
     ]
    }
   ],
   "source": [
    "tamanho_populacao = 20\n",
    "ag = AlgoritimoGenetico(tamanho_populacao)\n",
    "ag.inicializa_populacao(espacos, valores, limite)\n",
    "\n",
    "for individuo in ag.populacao:\n",
    "    individuo.avaliacao()\n",
    "\n",
    "ag.ordena_populacao()\n",
    "\n",
    "for i in range(ag.tamanho_populacao):\n",
    "    print('*** Individuo %s*** \\n' % i,\n",
    "          'Espaços = %s \\n' % str(ag.populacao[i].espacos), \n",
    "          'Valores = %s \\n' % str(ag.populacao[i].valores),\n",
    "          'Cromossomo = %s \\n' % str(ag.populacao[i].cromossomo),\n",
    "          'Nota = %s \\n' % str(ag.populacao[i].nota_avaliacao)\n",
    "           )"
   ]
  },
  {
   "cell_type": "code",
   "execution_count": 121,
   "metadata": {},
   "outputs": [
    {
     "name": "stdout",
     "output_type": "stream",
     "text": [
      "Melhor Solução para o probema: ['0', '0', '1', '1', '0', '1', '1', '0', '1', '0', '0', '0', '1', '1'] Nota =  17476.39\n"
     ]
    }
   ],
   "source": [
    "tamanho_populacao = 20\n",
    "ag = AlgoritimoGenetico(tamanho_populacao)\n",
    "ag.inicializa_populacao(espacos, valores, limite)\n",
    "\n",
    "for individuo in ag.populacao:\n",
    "    individuo.avaliacao()\n",
    "\n",
    "ag.ordena_populacao()\n",
    "ag.melhor_individuo(ag.populacao[0])\n",
    "print('Melhor Solução para o probema: %s' % ag.melhor_solucao.cromossomo,\n",
    "      'Nota =  %s' % ag.melhor_solucao.nota_avaliacao\n",
    "     )"
   ]
  },
  {
   "cell_type": "code",
   "execution_count": 122,
   "metadata": {},
   "outputs": [
    {
     "name": "stdout",
     "output_type": "stream",
     "text": [
      "Soma =  163491.46\n"
     ]
    }
   ],
   "source": [
    "tamanho_populacao = 20\n",
    "ag = AlgoritimoGenetico(tamanho_populacao)\n",
    "ag.inicializa_populacao(espacos, valores, limite)\n",
    "\n",
    "for individuo in ag.populacao:\n",
    "    individuo.avaliacao()\n",
    "\n",
    "ag.ordena_populacao()\n",
    "ag.melhor_individuo(ag.populacao[0])\n",
    "soma = ag.soma_avaliacoes()\n",
    "\n",
    "print('Soma =  %s' % soma)"
   ]
  },
  {
   "cell_type": "code",
   "execution_count": 123,
   "metadata": {},
   "outputs": [
    {
     "name": "stdout",
     "output_type": "stream",
     "text": [
      "Melhor: ['0', '1', '0', '1', '1', '0', '1', '0', '0', '1', '1', '1', '0', '0'] Valor: 12459.0 \n",
      "\n"
     ]
    }
   ],
   "source": [
    "tamanho_populacao = 4\n",
    "ag = AlgoritimoGenetico(tamanho_populacao)\n",
    "ag.inicializa_populacao(espacos, valores, limite)\n",
    "\n",
    "for individuo in ag.populacao:\n",
    "    individuo.avaliacao()\n",
    "\n",
    "ag.ordena_populacao()\n",
    "ag.melhor_individuo(ag.populacao[0])\n",
    "soma = ag.soma_avaliacoes()\n",
    "nova_populacao = []\n",
    "probabilidade_mutacao = 0.01\n",
    "\n",
    "for individuo_gerados in range(0, ag.tamanho_populacao, 2):\n",
    "    pai1 = ag.seleciona_pai(soma)\n",
    "    pai2 = ag.seleciona_pai(soma)\n",
    "\n",
    "    filhos = ag.populacao[pai1].crossover(ag.populacao[pai2])\n",
    "    \n",
    "    nova_populacao.append(filhos[0].mutacao(probabilidade_mutacao))\n",
    "    nova_populacao.append(filhos[1].mutacao(probabilidade_mutacao))\n",
    "\n",
    "ag.populacao = list(nova_populacao)\n",
    "\n",
    "for individuo in ag.populacao:\n",
    "    individuo.avaliacao()\n",
    "\n",
    "ag.ordena_populacao()\n",
    "ag.melhor_individuo(ag.populacao[0])\n",
    "soma = ag.soma_avaliacoes()\n",
    "\n",
    "print('Melhor: %s' % ag.melhor_solucao.cromossomo, \n",
    "       'Valor: %s \\n' % ag.melhor_solucao.nota_avaliacao)"
   ]
  },
  {
   "cell_type": "code",
   "execution_count": 124,
   "metadata": {},
   "outputs": [],
   "source": [
    "# definição da função final"
   ]
  },
  {
   "cell_type": "code",
   "execution_count": 129,
   "metadata": {},
   "outputs": [
    {
     "name": "stdout",
     "output_type": "stream",
     "text": [
      "G:0  -> Valor 19276.39 Espaço: 2.2259 Cromossomo: ['1', '0', '1', '1', '1', '1', '0', '0', '1', '0', '0', '0', '0', '1'] \n",
      "G:1  -> Valor 16959.62 Espaço: 2.6460898999999998 Cromossomo: ['0', '1', '0', '1', '1', '0', '1', '0', '0', '0', '1', '0', '1', '1'] \n",
      "G:2  -> Valor 16959.62 Espaço: 2.6460898999999998 Cromossomo: ['0', '1', '0', '1', '1', '0', '1', '0', '0', '0', '1', '0', '1', '1'] \n",
      "G:3  -> Valor 17609.8 Espaço: 2.9129899000000004 Cromossomo: ['0', '1', '0', '1', '1', '0', '1', '0', '0', '1', '0', '1', '1', '1'] \n",
      "G:4  -> Valor 18454.54 Espaço: 1.4948 Cromossomo: ['0', '0', '1', '1', '1', '1', '0', '1', '0', '1', '0', '0', '0', '1'] \n",
      "G:5  -> Valor 21365.660000000003 Espaço: 1.4948899 Cromossomo: ['0', '1', '1', '1', '1', '1', '0', '1', '0', '1', '0', '0', '0', '1'] \n",
      "G:6  -> Valor 19654.43 Espaço: 2.3648 Cromossomo: ['0', '0', '1', '1', '1', '1', '0', '1', '0', '1', '0', '1', '0', '1'] \n",
      "G:7  -> Valor 19654.43 Espaço: 2.3648 Cromossomo: ['0', '0', '1', '1', '1', '1', '0', '1', '0', '1', '0', '1', '0', '1'] \n",
      "G:8  -> Valor 22565.550000000003 Espaço: 2.3648899 Cromossomo: ['0', '1', '1', '1', '1', '1', '0', '1', '0', '1', '0', '1', '0', '1'] \n",
      "G:9  -> Valor 20418.36 Espaço: 2.9588899 Cromossomo: ['0', '1', '0', '1', '1', '1', '1', '1', '0', '1', '0', '1', '1', '1'] \n",
      "G:10  -> Valor 20065.65 Espaço: 2.3613899000000003 Cromossomo: ['0', '1', '1', '1', '1', '0', '0', '1', '0', '1', '0', '1', '0', '1'] \n",
      "G:11  -> Valor 20065.65 Espaço: 2.3613899000000003 Cromossomo: ['0', '1', '1', '1', '1', '0', '0', '1', '0', '1', '0', '1', '0', '1'] \n",
      "G:12  -> Valor 22565.550000000003 Espaço: 2.3648899 Cromossomo: ['0', '1', '1', '1', '1', '1', '0', '1', '0', '1', '0', '1', '0', '1'] \n",
      "G:13  -> Valor 22565.550000000003 Espaço: 2.3648899 Cromossomo: ['0', '1', '1', '1', '1', '1', '0', '1', '0', '1', '0', '1', '0', '1'] \n",
      "G:14  -> Valor 22765.450000000004 Espaço: 2.8608899 Cromossomo: ['0', '1', '1', '1', '1', '1', '1', '1', '0', '1', '0', '1', '0', '1'] \n",
      "G:15  -> Valor 22765.450000000004 Espaço: 2.8608899 Cromossomo: ['0', '1', '1', '1', '1', '1', '1', '1', '0', '1', '0', '1', '0', '1'] \n",
      "G:16  -> Valor 22765.450000000004 Espaço: 2.8608899 Cromossomo: ['0', '1', '1', '1', '1', '1', '1', '1', '0', '1', '0', '1', '0', '1'] \n",
      "G:17  -> Valor 22686.790000000005 Espaço: 2.3768899 Cromossomo: ['0', '1', '1', '1', '1', '1', '0', '0', '1', '1', '0', '1', '0', '1'] \n",
      "G:18  -> Valor 22696.160000000003 Espaço: 2.3873899 Cromossomo: ['0', '1', '1', '1', '1', '1', '0', '1', '1', '0', '0', '1', '0', '1'] \n",
      "G:19  -> Valor 22995.450000000004 Espaço: 2.4192899 Cromossomo: ['0', '1', '1', '1', '1', '1', '0', '1', '1', '1', '0', '1', '0', '1'] \n",
      "G:20  -> Valor 22995.450000000004 Espaço: 2.4192899 Cromossomo: ['0', '1', '1', '1', '1', '1', '0', '1', '1', '1', '0', '1', '0', '1'] \n",
      "G:21  -> Valor 22995.450000000004 Espaço: 2.4192899 Cromossomo: ['0', '1', '1', '1', '1', '1', '0', '1', '1', '1', '0', '1', '0', '1'] \n",
      "G:22  -> Valor 22995.450000000004 Espaço: 2.4192899 Cromossomo: ['0', '1', '1', '1', '1', '1', '0', '1', '1', '1', '0', '1', '0', '1'] \n",
      "G:23  -> Valor 22995.450000000004 Espaço: 2.4192899 Cromossomo: ['0', '1', '1', '1', '1', '1', '0', '1', '1', '1', '0', '1', '0', '1'] \n",
      "G:24  -> Valor 22995.450000000004 Espaço: 2.4192899 Cromossomo: ['0', '1', '1', '1', '1', '1', '0', '1', '1', '1', '0', '1', '0', '1'] \n",
      "G:25  -> Valor 22995.450000000004 Espaço: 2.4192899 Cromossomo: ['0', '1', '1', '1', '1', '1', '0', '1', '1', '1', '0', '1', '0', '1'] \n",
      "G:26  -> Valor 22995.450000000004 Espaço: 2.4192899 Cromossomo: ['0', '1', '1', '1', '1', '1', '0', '1', '1', '1', '0', '1', '0', '1'] \n",
      "G:27  -> Valor 23414.550000000003 Espaço: 2.9998899000000003 Cromossomo: ['0', '1', '1', '1', '1', '1', '0', '1', '0', '1', '1', '1', '0', '1'] \n",
      "G:28  -> Valor 22696.160000000003 Espaço: 2.3873899 Cromossomo: ['0', '1', '1', '1', '1', '1', '0', '1', '1', '0', '0', '1', '0', '1'] \n",
      "G:29  -> Valor 22995.450000000004 Espaço: 2.4192899 Cromossomo: ['0', '1', '1', '1', '1', '1', '0', '1', '1', '1', '0', '1', '0', '1'] \n",
      "G:30  -> Valor 22995.450000000004 Espaço: 2.4192899 Cromossomo: ['0', '1', '1', '1', '1', '1', '0', '1', '1', '1', '0', '1', '0', '1'] \n",
      "G:31  -> Valor 22995.450000000004 Espaço: 2.4192899 Cromossomo: ['0', '1', '1', '1', '1', '1', '0', '1', '1', '1', '0', '1', '0', '1'] \n",
      "G:32  -> Valor 22995.450000000004 Espaço: 2.4192899 Cromossomo: ['0', '1', '1', '1', '1', '1', '0', '1', '1', '1', '0', '1', '0', '1'] \n",
      "G:33  -> Valor 22995.450000000004 Espaço: 2.4192899 Cromossomo: ['0', '1', '1', '1', '1', '1', '0', '1', '1', '1', '0', '1', '0', '1'] \n",
      "G:34  -> Valor 22995.450000000004 Espaço: 2.4192899 Cromossomo: ['0', '1', '1', '1', '1', '1', '0', '1', '1', '1', '0', '1', '0', '1'] \n",
      "G:35  -> Valor 22995.450000000004 Espaço: 2.4192899 Cromossomo: ['0', '1', '1', '1', '1', '1', '0', '1', '1', '1', '0', '1', '0', '1'] \n",
      "G:36  -> Valor 22995.450000000004 Espaço: 2.4192899 Cromossomo: ['0', '1', '1', '1', '1', '1', '0', '1', '1', '1', '0', '1', '0', '1'] \n",
      "G:37  -> Valor 22995.450000000004 Espaço: 2.4192899 Cromossomo: ['0', '1', '1', '1', '1', '1', '0', '1', '1', '1', '0', '1', '0', '1'] \n",
      "G:38  -> Valor 22995.450000000004 Espaço: 2.4192899 Cromossomo: ['0', '1', '1', '1', '1', '1', '0', '1', '1', '1', '0', '1', '0', '1'] \n",
      "G:39  -> Valor 24565.450000000004 Espaço: 2.8628899 Cromossomo: ['0', '1', '1', '1', '1', '1', '0', '1', '0', '1', '0', '1', '1', '1'] \n",
      "G:40  -> Valor 24565.450000000004 Espaço: 2.8628899 Cromossomo: ['0', '1', '1', '1', '1', '1', '0', '1', '0', '1', '0', '1', '1', '1'] \n",
      "G:41  -> Valor 23115.260000000002 Espaço: 2.9679899 Cromossomo: ['0', '1', '1', '1', '1', '1', '0', '1', '0', '0', '1', '1', '0', '1'] \n",
      "G:42  -> Valor 23115.260000000002 Espaço: 2.9679899 Cromossomo: ['0', '1', '1', '1', '1', '1', '0', '1', '0', '0', '1', '1', '0', '1'] \n",
      "G:43  -> Valor 23115.260000000002 Espaço: 2.9679899 Cromossomo: ['0', '1', '1', '1', '1', '1', '0', '1', '0', '0', '1', '1', '0', '1'] \n",
      "G:44  -> Valor 22995.450000000004 Espaço: 2.4192899 Cromossomo: ['0', '1', '1', '1', '1', '1', '0', '1', '1', '1', '0', '1', '0', '1'] \n",
      "G:45  -> Valor 22995.450000000004 Espaço: 2.4192899 Cromossomo: ['0', '1', '1', '1', '1', '1', '0', '1', '1', '1', '0', '1', '0', '1'] \n",
      "G:46  -> Valor 22995.450000000004 Espaço: 2.4192899 Cromossomo: ['0', '1', '1', '1', '1', '1', '0', '1', '1', '1', '0', '1', '0', '1'] \n",
      "G:47  -> Valor 22995.450000000004 Espaço: 2.4192899 Cromossomo: ['0', '1', '1', '1', '1', '1', '0', '1', '1', '1', '0', '1', '0', '1'] \n",
      "G:48  -> Valor 22995.450000000004 Espaço: 2.4192899 Cromossomo: ['0', '1', '1', '1', '1', '1', '0', '1', '1', '1', '0', '1', '0', '1'] \n",
      "G:49  -> Valor 24995.350000000006 Espaço: 2.9172899 Cromossomo: ['0', '1', '1', '1', '1', '1', '0', '1', '1', '1', '0', '1', '1', '1'] \n",
      "G:50  -> Valor 22995.450000000004 Espaço: 2.4192899 Cromossomo: ['0', '1', '1', '1', '1', '1', '0', '1', '1', '1', '0', '1', '0', '1'] \n",
      "G:51  -> Valor 22995.450000000004 Espaço: 2.4192899 Cromossomo: ['0', '1', '1', '1', '1', '1', '0', '1', '1', '1', '0', '1', '0', '1'] \n",
      "G:52  -> Valor 22995.450000000004 Espaço: 2.4192899 Cromossomo: ['0', '1', '1', '1', '1', '1', '0', '1', '1', '1', '0', '1', '0', '1'] \n",
      "G:53  -> Valor 22696.160000000003 Espaço: 2.3873899 Cromossomo: ['0', '1', '1', '1', '1', '1', '0', '1', '1', '0', '0', '1', '0', '1'] \n",
      "G:54  -> Valor 22995.450000000004 Espaço: 2.4192899 Cromossomo: ['0', '1', '1', '1', '1', '1', '0', '1', '1', '1', '0', '1', '0', '1'] \n",
      "G:55  -> Valor 22995.450000000004 Espaço: 2.4192899 Cromossomo: ['0', '1', '1', '1', '1', '1', '0', '1', '1', '1', '0', '1', '0', '1'] \n",
      "G:56  -> Valor 22995.450000000004 Espaço: 2.4192899 Cromossomo: ['0', '1', '1', '1', '1', '1', '0', '1', '1', '1', '0', '1', '0', '1'] \n",
      "G:57  -> Valor 22995.450000000004 Espaço: 2.4192899 Cromossomo: ['0', '1', '1', '1', '1', '1', '0', '1', '1', '1', '0', '1', '0', '1'] \n",
      "G:58  -> Valor 22995.450000000004 Espaço: 2.4192899 Cromossomo: ['0', '1', '1', '1', '1', '1', '0', '1', '1', '1', '0', '1', '0', '1'] \n",
      "G:59  -> Valor 22995.450000000004 Espaço: 2.4192899 Cromossomo: ['0', '1', '1', '1', '1', '1', '0', '1', '1', '1', '0', '1', '0', '1'] \n",
      "G:60  -> Valor 24696.060000000005 Espaço: 2.8853899 Cromossomo: ['0', '1', '1', '1', '1', '1', '0', '1', '1', '0', '0', '1', '1', '1'] \n",
      "G:61  -> Valor 24696.060000000005 Espaço: 2.8853899 Cromossomo: ['0', '1', '1', '1', '1', '1', '0', '1', '1', '0', '0', '1', '1', '1'] \n",
      "G:62  -> Valor 24696.060000000005 Espaço: 2.8853899 Cromossomo: ['0', '1', '1', '1', '1', '1', '0', '1', '1', '0', '0', '1', '1', '1'] \n",
      "G:63  -> Valor 24995.350000000006 Espaço: 2.9172899 Cromossomo: ['0', '1', '1', '1', '1', '1', '0', '1', '1', '1', '0', '1', '1', '1'] \n",
      "G:64  -> Valor 24696.060000000005 Espaço: 2.8853899 Cromossomo: ['0', '1', '1', '1', '1', '1', '0', '1', '1', '0', '0', '1', '1', '1'] \n",
      "G:65  -> Valor 24696.060000000005 Espaço: 2.8853899 Cromossomo: ['0', '1', '1', '1', '1', '1', '0', '1', '1', '0', '0', '1', '1', '1'] \n",
      "G:66  -> Valor 24995.350000000006 Espaço: 2.9172899 Cromossomo: ['0', '1', '1', '1', '1', '1', '0', '1', '1', '1', '0', '1', '1', '1'] \n",
      "G:67  -> Valor 24995.350000000006 Espaço: 2.9172899 Cromossomo: ['0', '1', '1', '1', '1', '1', '0', '1', '1', '1', '0', '1', '1', '1'] \n",
      "G:68  -> Valor 24995.350000000006 Espaço: 2.9172899 Cromossomo: ['0', '1', '1', '1', '1', '1', '0', '1', '1', '1', '0', '1', '1', '1'] \n",
      "G:69  -> Valor 24995.350000000006 Espaço: 2.9172899 Cromossomo: ['0', '1', '1', '1', '1', '1', '0', '1', '1', '1', '0', '1', '1', '1'] \n",
      "G:70  -> Valor 24995.350000000006 Espaço: 2.9172899 Cromossomo: ['0', '1', '1', '1', '1', '1', '0', '1', '1', '1', '0', '1', '1', '1'] \n",
      "G:71  -> Valor 24995.350000000006 Espaço: 2.9172899 Cromossomo: ['0', '1', '1', '1', '1', '1', '0', '1', '1', '1', '0', '1', '1', '1'] \n",
      "G:72  -> Valor 24995.350000000006 Espaço: 2.9172899 Cromossomo: ['0', '1', '1', '1', '1', '1', '0', '1', '1', '1', '0', '1', '1', '1'] \n",
      "G:73  -> Valor 24995.350000000006 Espaço: 2.9172899 Cromossomo: ['0', '1', '1', '1', '1', '1', '0', '1', '1', '1', '0', '1', '1', '1'] \n",
      "G:74  -> Valor 24995.350000000006 Espaço: 2.9172899 Cromossomo: ['0', '1', '1', '1', '1', '1', '0', '1', '1', '1', '0', '1', '1', '1'] \n",
      "G:75  -> Valor 24995.350000000006 Espaço: 2.9172899 Cromossomo: ['0', '1', '1', '1', '1', '1', '0', '1', '1', '1', '0', '1', '1', '1'] \n",
      "G:76  -> Valor 24995.350000000006 Espaço: 2.9172899 Cromossomo: ['0', '1', '1', '1', '1', '1', '0', '1', '1', '1', '0', '1', '1', '1'] \n",
      "G:77  -> Valor 24387.400000000005 Espaço: 2.8429899 Cromossomo: ['0', '1', '1', '1', '1', '1', '0', '0', '1', '0', '0', '1', '1', '1'] \n",
      "G:78  -> Valor 24696.060000000005 Espaço: 2.8853899 Cromossomo: ['0', '1', '1', '1', '1', '1', '0', '1', '1', '0', '0', '1', '1', '1'] \n",
      "G:79  -> Valor 24696.060000000005 Espaço: 2.8853899 Cromossomo: ['0', '1', '1', '1', '1', '1', '0', '1', '1', '0', '0', '1', '1', '1'] \n",
      "G:80  -> Valor 24696.060000000005 Espaço: 2.8853899 Cromossomo: ['0', '1', '1', '1', '1', '1', '0', '1', '1', '0', '0', '1', '1', '1'] \n",
      "G:81  -> Valor 24995.350000000006 Espaço: 2.9172899 Cromossomo: ['0', '1', '1', '1', '1', '1', '0', '1', '1', '1', '0', '1', '1', '1'] \n",
      "G:82  -> Valor 24995.350000000006 Espaço: 2.9172899 Cromossomo: ['0', '1', '1', '1', '1', '1', '0', '1', '1', '1', '0', '1', '1', '1'] \n",
      "G:83  -> Valor 24686.690000000006 Espaço: 2.8748899000000003 Cromossomo: ['0', '1', '1', '1', '1', '1', '0', '0', '1', '1', '0', '1', '1', '1'] \n",
      "G:84  -> Valor 24995.350000000006 Espaço: 2.9172899 Cromossomo: ['0', '1', '1', '1', '1', '1', '0', '1', '1', '1', '0', '1', '1', '1'] \n",
      "G:85  -> Valor 24995.350000000006 Espaço: 2.9172899 Cromossomo: ['0', '1', '1', '1', '1', '1', '0', '1', '1', '1', '0', '1', '1', '1'] \n",
      "G:86  -> Valor 24686.690000000006 Espaço: 2.8748899000000003 Cromossomo: ['0', '1', '1', '1', '1', '1', '0', '0', '1', '1', '0', '1', '1', '1'] \n",
      "G:87  -> Valor 24686.690000000006 Espaço: 2.8748899000000003 Cromossomo: ['0', '1', '1', '1', '1', '1', '0', '0', '1', '1', '0', '1', '1', '1'] \n",
      "G:88  -> Valor 24686.690000000006 Espaço: 2.8748899000000003 Cromossomo: ['0', '1', '1', '1', '1', '1', '0', '0', '1', '1', '0', '1', '1', '1'] \n",
      "G:89  -> Valor 24686.690000000006 Espaço: 2.8748899000000003 Cromossomo: ['0', '1', '1', '1', '1', '1', '0', '0', '1', '1', '0', '1', '1', '1'] \n",
      "G:90  -> Valor 24995.350000000006 Espaço: 2.9172899 Cromossomo: ['0', '1', '1', '1', '1', '1', '0', '1', '1', '1', '0', '1', '1', '1'] \n",
      "G:91  -> Valor 24995.350000000006 Espaço: 2.9172899 Cromossomo: ['0', '1', '1', '1', '1', '1', '0', '1', '1', '1', '0', '1', '1', '1'] \n",
      "G:92  -> Valor 24686.690000000006 Espaço: 2.8748899000000003 Cromossomo: ['0', '1', '1', '1', '1', '1', '0', '0', '1', '1', '0', '1', '1', '1'] \n",
      "G:93  -> Valor 24686.690000000006 Espaço: 2.8748899000000003 Cromossomo: ['0', '1', '1', '1', '1', '1', '0', '0', '1', '1', '0', '1', '1', '1'] \n",
      "G:94  -> Valor 24565.450000000004 Espaço: 2.8628899 Cromossomo: ['0', '1', '1', '1', '1', '1', '0', '1', '0', '1', '0', '1', '1', '1'] \n",
      "G:95  -> Valor 24686.690000000006 Espaço: 2.8748899000000003 Cromossomo: ['0', '1', '1', '1', '1', '1', '0', '0', '1', '1', '0', '1', '1', '1'] \n",
      "G:96  -> Valor 24686.690000000006 Espaço: 2.8748899000000003 Cromossomo: ['0', '1', '1', '1', '1', '1', '0', '0', '1', '1', '0', '1', '1', '1'] \n",
      "G:97  -> Valor 24686.690000000006 Espaço: 2.8748899000000003 Cromossomo: ['0', '1', '1', '1', '1', '1', '0', '0', '1', '1', '0', '1', '1', '1'] \n",
      "G:98  -> Valor 23195.350000000006 Espaço: 2.9152899 Cromossomo: ['0', '1', '1', '1', '1', '1', '1', '1', '1', '1', '0', '1', '0', '1'] \n",
      "G:99  -> Valor 24686.690000000006 Espaço: 2.8748899000000003 Cromossomo: ['0', '1', '1', '1', '1', '1', '0', '0', '1', '1', '0', '1', '1', '1'] \n",
      "G:100  -> Valor 24686.690000000006 Espaço: 2.8748899000000003 Cromossomo: ['0', '1', '1', '1', '1', '1', '0', '0', '1', '1', '0', '1', '1', '1'] \n",
      "G:101  -> Valor 24565.450000000004 Espaço: 2.8628899 Cromossomo: ['0', '1', '1', '1', '1', '1', '0', '1', '0', '1', '0', '1', '1', '1'] \n",
      "G:102  -> Valor 24565.450000000004 Espaço: 2.8628899 Cromossomo: ['0', '1', '1', '1', '1', '1', '0', '1', '0', '1', '0', '1', '1', '1'] \n",
      "G:103  -> Valor 24565.450000000004 Espaço: 2.8628899 Cromossomo: ['0', '1', '1', '1', '1', '1', '0', '1', '0', '1', '0', '1', '1', '1'] \n",
      "G:104  -> Valor 24686.690000000006 Espaço: 2.8748899000000003 Cromossomo: ['0', '1', '1', '1', '1', '1', '0', '0', '1', '1', '0', '1', '1', '1'] \n",
      "G:105  -> Valor 24686.690000000006 Espaço: 2.8748899000000003 Cromossomo: ['0', '1', '1', '1', '1', '1', '0', '0', '1', '1', '0', '1', '1', '1'] \n",
      "G:106  -> Valor 22686.790000000005 Espaço: 2.3768899 Cromossomo: ['0', '1', '1', '1', '1', '1', '0', '0', '1', '1', '0', '1', '0', '1'] \n",
      "G:107  -> Valor 22686.790000000005 Espaço: 2.3768899 Cromossomo: ['0', '1', '1', '1', '1', '1', '0', '0', '1', '1', '0', '1', '0', '1'] \n",
      "G:108  -> Valor 24686.690000000006 Espaço: 2.8748899000000003 Cromossomo: ['0', '1', '1', '1', '1', '1', '0', '0', '1', '1', '0', '1', '1', '1'] \n",
      "G:109  -> Valor 22565.550000000003 Espaço: 2.3648899 Cromossomo: ['0', '1', '1', '1', '1', '1', '0', '1', '0', '1', '0', '1', '0', '1'] \n",
      "G:110  -> Valor 22565.550000000003 Espaço: 2.3648899 Cromossomo: ['0', '1', '1', '1', '1', '1', '0', '1', '0', '1', '0', '1', '0', '1'] \n",
      "G:111  -> Valor 22565.550000000003 Espaço: 2.3648899 Cromossomo: ['0', '1', '1', '1', '1', '1', '0', '1', '0', '1', '0', '1', '0', '1'] \n",
      "G:112  -> Valor 24256.790000000005 Espaço: 2.8204899 Cromossomo: ['0', '1', '1', '1', '1', '1', '0', '0', '0', '1', '0', '1', '1', '1'] \n",
      "G:113  -> Valor 24256.790000000005 Espaço: 2.8204899 Cromossomo: ['0', '1', '1', '1', '1', '1', '0', '0', '0', '1', '0', '1', '1', '1'] \n",
      "G:114  -> Valor 24256.790000000005 Espaço: 2.8204899 Cromossomo: ['0', '1', '1', '1', '1', '1', '0', '0', '0', '1', '0', '1', '1', '1'] \n",
      "G:115  -> Valor 22686.790000000005 Espaço: 2.3768899 Cromossomo: ['0', '1', '1', '1', '1', '1', '0', '0', '1', '1', '0', '1', '0', '1'] \n",
      "G:116  -> Valor 22686.790000000005 Espaço: 2.3768899 Cromossomo: ['0', '1', '1', '1', '1', '1', '0', '0', '1', '1', '0', '1', '0', '1'] \n",
      "G:117  -> Valor 22686.790000000005 Espaço: 2.3768899 Cromossomo: ['0', '1', '1', '1', '1', '1', '0', '0', '1', '1', '0', '1', '0', '1'] \n",
      "G:118  -> Valor 22686.790000000005 Espaço: 2.3768899 Cromossomo: ['0', '1', '1', '1', '1', '1', '0', '0', '1', '1', '0', '1', '0', '1'] \n",
      "G:119  -> Valor 22686.790000000005 Espaço: 2.3768899 Cromossomo: ['0', '1', '1', '1', '1', '1', '0', '0', '1', '1', '0', '1', '0', '1'] \n",
      "G:120  -> Valor 22686.790000000005 Espaço: 2.3768899 Cromossomo: ['0', '1', '1', '1', '1', '1', '0', '0', '1', '1', '0', '1', '0', '1'] \n",
      "G:121  -> Valor 22686.790000000005 Espaço: 2.3768899 Cromossomo: ['0', '1', '1', '1', '1', '1', '0', '0', '1', '1', '0', '1', '0', '1'] \n",
      "G:122  -> Valor 22886.690000000006 Espaço: 2.8728899 Cromossomo: ['0', '1', '1', '1', '1', '1', '1', '0', '1', '1', '0', '1', '0', '1'] \n",
      "G:123  -> Valor 22686.790000000005 Espaço: 2.3768899 Cromossomo: ['0', '1', '1', '1', '1', '1', '0', '0', '1', '1', '0', '1', '0', '1'] \n",
      "G:124  -> Valor 22686.790000000005 Espaço: 2.3768899 Cromossomo: ['0', '1', '1', '1', '1', '1', '0', '0', '1', '1', '0', '1', '0', '1'] \n",
      "G:125  -> Valor 22686.790000000005 Espaço: 2.3768899 Cromossomo: ['0', '1', '1', '1', '1', '1', '0', '0', '1', '1', '0', '1', '0', '1'] \n",
      "G:126  -> Valor 22686.790000000005 Espaço: 2.3768899 Cromossomo: ['0', '1', '1', '1', '1', '1', '0', '0', '1', '1', '0', '1', '0', '1'] \n",
      "G:127  -> Valor 22686.790000000005 Espaço: 2.3768899 Cromossomo: ['0', '1', '1', '1', '1', '1', '0', '0', '1', '1', '0', '1', '0', '1'] \n",
      "G:128  -> Valor 22686.790000000005 Espaço: 2.3768899 Cromossomo: ['0', '1', '1', '1', '1', '1', '0', '0', '1', '1', '0', '1', '0', '1'] \n",
      "G:129  -> Valor 22686.790000000005 Espaço: 2.3768899 Cromossomo: ['0', '1', '1', '1', '1', '1', '0', '0', '1', '1', '0', '1', '0', '1'] \n",
      "G:130  -> Valor 22686.790000000005 Espaço: 2.3768899 Cromossomo: ['0', '1', '1', '1', '1', '1', '0', '0', '1', '1', '0', '1', '0', '1'] \n",
      "G:131  -> Valor 22686.790000000005 Espaço: 2.3768899 Cromossomo: ['0', '1', '1', '1', '1', '1', '0', '0', '1', '1', '0', '1', '0', '1'] \n",
      "G:132  -> Valor 22686.790000000005 Espaço: 2.3768899 Cromossomo: ['0', '1', '1', '1', '1', '1', '0', '0', '1', '1', '0', '1', '0', '1'] \n",
      "G:133  -> Valor 22886.690000000006 Espaço: 2.8728899 Cromossomo: ['0', '1', '1', '1', '1', '1', '1', '0', '1', '1', '0', '1', '0', '1'] \n",
      "G:134  -> Valor 22886.690000000006 Espaço: 2.8728899 Cromossomo: ['0', '1', '1', '1', '1', '1', '1', '0', '1', '1', '0', '1', '0', '1'] \n",
      "G:135  -> Valor 22995.450000000004 Espaço: 2.4192899 Cromossomo: ['0', '1', '1', '1', '1', '1', '0', '1', '1', '1', '0', '1', '0', '1'] \n",
      "G:136  -> Valor 22686.790000000005 Espaço: 2.3768899 Cromossomo: ['0', '1', '1', '1', '1', '1', '0', '0', '1', '1', '0', '1', '0', '1'] \n",
      "G:137  -> Valor 22686.790000000005 Espaço: 2.3768899 Cromossomo: ['0', '1', '1', '1', '1', '1', '0', '0', '1', '1', '0', '1', '0', '1'] \n",
      "G:138  -> Valor 22686.790000000005 Espaço: 2.3768899 Cromossomo: ['0', '1', '1', '1', '1', '1', '0', '0', '1', '1', '0', '1', '0', '1'] \n",
      "G:139  -> Valor 22886.690000000006 Espaço: 2.8728899 Cromossomo: ['0', '1', '1', '1', '1', '1', '1', '0', '1', '1', '0', '1', '0', '1'] \n",
      "G:140  -> Valor 22765.450000000004 Espaço: 2.8608899 Cromossomo: ['0', '1', '1', '1', '1', '1', '1', '1', '0', '1', '0', '1', '0', '1'] \n",
      "G:141  -> Valor 24686.690000000006 Espaço: 2.8748899000000003 Cromossomo: ['0', '1', '1', '1', '1', '1', '0', '0', '1', '1', '0', '1', '1', '1'] \n",
      "G:142  -> Valor 24686.690000000006 Espaço: 2.8748899000000003 Cromossomo: ['0', '1', '1', '1', '1', '1', '0', '0', '1', '1', '0', '1', '1', '1'] \n",
      "G:143  -> Valor 24686.690000000006 Espaço: 2.8748899000000003 Cromossomo: ['0', '1', '1', '1', '1', '1', '0', '0', '1', '1', '0', '1', '1', '1'] \n",
      "G:144  -> Valor 24686.690000000006 Espaço: 2.8748899000000003 Cromossomo: ['0', '1', '1', '1', '1', '1', '0', '0', '1', '1', '0', '1', '1', '1'] \n",
      "G:145  -> Valor 24995.350000000006 Espaço: 2.9172899 Cromossomo: ['0', '1', '1', '1', '1', '1', '0', '1', '1', '1', '0', '1', '1', '1'] \n",
      "G:146  -> Valor 24995.350000000006 Espaço: 2.9172899 Cromossomo: ['0', '1', '1', '1', '1', '1', '0', '1', '1', '1', '0', '1', '1', '1'] \n",
      "G:147  -> Valor 24256.790000000005 Espaço: 2.8204899 Cromossomo: ['0', '1', '1', '1', '1', '1', '0', '0', '0', '1', '0', '1', '1', '1'] \n",
      "G:148  -> Valor 22886.690000000006 Espaço: 2.8728899 Cromossomo: ['0', '1', '1', '1', '1', '1', '1', '0', '1', '1', '0', '1', '0', '1'] \n",
      "G:149  -> Valor 22995.450000000004 Espaço: 2.4192899 Cromossomo: ['0', '1', '1', '1', '1', '1', '0', '1', '1', '1', '0', '1', '0', '1'] \n",
      "G:150  -> Valor 22995.450000000004 Espaço: 2.4192899 Cromossomo: ['0', '1', '1', '1', '1', '1', '0', '1', '1', '1', '0', '1', '0', '1'] \n",
      "G:151  -> Valor 24256.790000000005 Espaço: 2.8204899 Cromossomo: ['0', '1', '1', '1', '1', '1', '0', '0', '0', '1', '0', '1', '1', '1'] \n",
      "G:152  -> Valor 22886.690000000006 Espaço: 2.8728899 Cromossomo: ['0', '1', '1', '1', '1', '1', '1', '0', '1', '1', '0', '1', '0', '1'] \n",
      "G:153  -> Valor 22886.690000000006 Espaço: 2.8728899 Cromossomo: ['0', '1', '1', '1', '1', '1', '1', '0', '1', '1', '0', '1', '0', '1'] \n",
      "G:154  -> Valor 22886.690000000006 Espaço: 2.8728899 Cromossomo: ['0', '1', '1', '1', '1', '1', '1', '0', '1', '1', '0', '1', '0', '1'] \n",
      "G:155  -> Valor 22886.690000000006 Espaço: 2.8728899 Cromossomo: ['0', '1', '1', '1', '1', '1', '1', '0', '1', '1', '0', '1', '0', '1'] \n",
      "G:156  -> Valor 23957.500000000004 Espaço: 2.7885899 Cromossomo: ['0', '1', '1', '1', '1', '1', '0', '0', '0', '0', '0', '1', '1', '1'] \n",
      "G:157  -> Valor 23957.500000000004 Espaço: 2.7885899 Cromossomo: ['0', '1', '1', '1', '1', '1', '0', '0', '0', '0', '0', '1', '1', '1'] \n",
      "G:158  -> Valor 22995.450000000004 Espaço: 2.4192899 Cromossomo: ['0', '1', '1', '1', '1', '1', '0', '1', '1', '1', '0', '1', '0', '1'] \n",
      "G:159  -> Valor 23195.350000000006 Espaço: 2.9152899 Cromossomo: ['0', '1', '1', '1', '1', '1', '1', '1', '1', '1', '0', '1', '0', '1'] \n",
      "G:160  -> Valor 22886.690000000006 Espaço: 2.8728899 Cromossomo: ['0', '1', '1', '1', '1', '1', '1', '0', '1', '1', '0', '1', '0', '1'] \n",
      "G:161  -> Valor 24256.790000000005 Espaço: 2.8204899 Cromossomo: ['0', '1', '1', '1', '1', '1', '0', '0', '0', '1', '0', '1', '1', '1'] \n",
      "G:162  -> Valor 22886.690000000006 Espaço: 2.8728899 Cromossomo: ['0', '1', '1', '1', '1', '1', '1', '0', '1', '1', '0', '1', '0', '1'] \n",
      "G:163  -> Valor 22886.690000000006 Espaço: 2.8728899 Cromossomo: ['0', '1', '1', '1', '1', '1', '1', '0', '1', '1', '0', '1', '0', '1'] \n",
      "G:164  -> Valor 22886.690000000006 Espaço: 2.8728899 Cromossomo: ['0', '1', '1', '1', '1', '1', '1', '0', '1', '1', '0', '1', '0', '1'] \n",
      "G:165  -> Valor 23195.350000000006 Espaço: 2.9152899 Cromossomo: ['0', '1', '1', '1', '1', '1', '1', '1', '1', '1', '0', '1', '0', '1'] \n",
      "G:166  -> Valor 22886.690000000006 Espaço: 2.8728899 Cromossomo: ['0', '1', '1', '1', '1', '1', '1', '0', '1', '1', '0', '1', '0', '1'] \n",
      "G:167  -> Valor 23195.350000000006 Espaço: 2.9152899 Cromossomo: ['0', '1', '1', '1', '1', '1', '1', '1', '1', '1', '0', '1', '0', '1'] \n",
      "G:168  -> Valor 22886.690000000006 Espaço: 2.8728899 Cromossomo: ['0', '1', '1', '1', '1', '1', '1', '0', '1', '1', '0', '1', '0', '1'] \n",
      "G:169  -> Valor 22886.690000000006 Espaço: 2.8728899 Cromossomo: ['0', '1', '1', '1', '1', '1', '1', '0', '1', '1', '0', '1', '0', '1'] \n",
      "G:170  -> Valor 20386.79 Espaço: 2.8693899000000003 Cromossomo: ['0', '1', '1', '1', '1', '0', '1', '0', '1', '1', '0', '1', '0', '1'] \n",
      "G:171  -> Valor 22886.690000000006 Espaço: 2.8728899 Cromossomo: ['0', '1', '1', '1', '1', '1', '1', '0', '1', '1', '0', '1', '0', '1'] \n",
      "G:172  -> Valor 22886.690000000006 Espaço: 2.8728899 Cromossomo: ['0', '1', '1', '1', '1', '1', '1', '0', '1', '1', '0', '1', '0', '1'] \n",
      "G:173  -> Valor 22886.690000000006 Espaço: 2.8728899 Cromossomo: ['0', '1', '1', '1', '1', '1', '1', '0', '1', '1', '0', '1', '0', '1'] \n",
      "G:174  -> Valor 22886.690000000006 Espaço: 2.8728899 Cromossomo: ['0', '1', '1', '1', '1', '1', '1', '0', '1', '1', '0', '1', '0', '1'] \n",
      "G:175  -> Valor 22886.690000000006 Espaço: 2.8728899 Cromossomo: ['0', '1', '1', '1', '1', '1', '1', '0', '1', '1', '0', '1', '0', '1'] \n",
      "G:176  -> Valor 23195.350000000006 Espaço: 2.9152899 Cromossomo: ['0', '1', '1', '1', '1', '1', '1', '1', '1', '1', '0', '1', '0', '1'] \n",
      "G:177  -> Valor 22886.690000000006 Espaço: 2.8728899 Cromossomo: ['0', '1', '1', '1', '1', '1', '1', '0', '1', '1', '0', '1', '0', '1'] \n",
      "G:178  -> Valor 23195.350000000006 Espaço: 2.9152899 Cromossomo: ['0', '1', '1', '1', '1', '1', '1', '1', '1', '1', '0', '1', '0', '1'] \n",
      "G:179  -> Valor 24686.690000000006 Espaço: 2.8748899000000003 Cromossomo: ['0', '1', '1', '1', '1', '1', '0', '0', '1', '1', '0', '1', '1', '1'] \n",
      "G:180  -> Valor 23195.350000000006 Espaço: 2.9152899 Cromossomo: ['0', '1', '1', '1', '1', '1', '1', '1', '1', '1', '0', '1', '0', '1'] \n",
      "G:181  -> Valor 23195.350000000006 Espaço: 2.9152899 Cromossomo: ['0', '1', '1', '1', '1', '1', '1', '1', '1', '1', '0', '1', '0', '1'] \n",
      "G:182  -> Valor 23195.350000000006 Espaço: 2.9152899 Cromossomo: ['0', '1', '1', '1', '1', '1', '1', '1', '1', '1', '0', '1', '0', '1'] \n",
      "G:183  -> Valor 23195.350000000006 Espaço: 2.9152899 Cromossomo: ['0', '1', '1', '1', '1', '1', '1', '1', '1', '1', '0', '1', '0', '1'] \n",
      "G:184  -> Valor 23195.350000000006 Espaço: 2.9152899 Cromossomo: ['0', '1', '1', '1', '1', '1', '1', '1', '1', '1', '0', '1', '0', '1'] \n",
      "G:185  -> Valor 22886.690000000006 Espaço: 2.8728899 Cromossomo: ['0', '1', '1', '1', '1', '1', '1', '0', '1', '1', '0', '1', '0', '1'] \n",
      "G:186  -> Valor 22886.690000000006 Espaço: 2.8728899 Cromossomo: ['0', '1', '1', '1', '1', '1', '1', '0', '1', '1', '0', '1', '0', '1'] \n",
      "G:187  -> Valor 22886.690000000006 Espaço: 2.8728899 Cromossomo: ['0', '1', '1', '1', '1', '1', '1', '0', '1', '1', '0', '1', '0', '1'] \n",
      "G:188  -> Valor 22886.690000000006 Espaço: 2.8728899 Cromossomo: ['0', '1', '1', '1', '1', '1', '1', '0', '1', '1', '0', '1', '0', '1'] \n",
      "G:189  -> Valor 22886.690000000006 Espaço: 2.8728899 Cromossomo: ['0', '1', '1', '1', '1', '1', '1', '0', '1', '1', '0', '1', '0', '1'] \n",
      "G:190  -> Valor 22995.450000000004 Espaço: 2.4192899 Cromossomo: ['0', '1', '1', '1', '1', '1', '0', '1', '1', '1', '0', '1', '0', '1'] \n",
      "G:191  -> Valor 22995.450000000004 Espaço: 2.4192899 Cromossomo: ['0', '1', '1', '1', '1', '1', '0', '1', '1', '1', '0', '1', '0', '1'] \n",
      "G:192  -> Valor 22995.450000000004 Espaço: 2.4192899 Cromossomo: ['0', '1', '1', '1', '1', '1', '0', '1', '1', '1', '0', '1', '0', '1'] \n",
      "G:193  -> Valor 21957.600000000002 Espaço: 2.2905899 Cromossomo: ['0', '1', '1', '1', '1', '1', '0', '0', '0', '0', '0', '1', '0', '1'] \n",
      "G:194  -> Valor 21757.61 Espaço: 2.1715899000000003 Cromossomo: ['1', '1', '1', '1', '1', '1', '0', '0', '0', '0', '0', '0', '0', '1'] \n",
      "G:195  -> Valor 21387.5 Espaço: 2.6429899 Cromossomo: ['0', '1', '1', '1', '0', '1', '0', '0', '1', '0', '0', '1', '1', '1'] \n",
      "G:196  -> Valor 21476.28 Espaço: 2.8429 Cromossomo: ['0', '0', '1', '1', '1', '1', '0', '0', '1', '0', '0', '1', '1', '1'] \n",
      "G:197  -> Valor 22686.790000000005 Espaço: 2.3768899 Cromossomo: ['0', '1', '1', '1', '1', '1', '0', '0', '1', '1', '0', '1', '0', '1'] \n",
      "G:198  -> Valor 22686.790000000005 Espaço: 2.3768899 Cromossomo: ['0', '1', '1', '1', '1', '1', '0', '0', '1', '1', '0', '1', '0', '1'] \n",
      "G:199  -> Valor 21187.610000000004 Espaço: 1.4749899 Cromossomo: ['0', '1', '1', '1', '1', '1', '0', '0', '1', '0', '0', '0', '0', '1'] \n",
      "G:200  -> Valor 21187.610000000004 Espaço: 1.4749899 Cromossomo: ['0', '1', '1', '1', '1', '1', '0', '0', '1', '0', '0', '0', '0', '1'] \n",
      "\n",
      " Melhor Solução --> G: 49 Valor: 24995.350000000006 Espaço: 2.9172899 Cromossomo: ['0', '1', '1', '1', '1', '1', '0', '1', '1', '1', '0', '1', '1', '1']\n",
      "Nome: Iphone 6 R$ 2911.12\n",
      "Nome: TV 55 R$ 4346.99\n",
      "Nome: TV 50 R$ 3999.9\n",
      "Nome: TV 42 R$ 2999.9\n",
      "Nome: Notebook Dell R$ 2499.9\n",
      "Nome: Microondas LG R$ 429.9\n",
      "Nome: Notebook Asus R$ 3999.9\n"
     ]
    },
    {
     "data": {
      "image/png": "[encoded data removed]",
      "text/plain": [
       "<Figure size 432x288 with 1 Axes>"
      ]
     },
     "metadata": {
      "needs_background": "light"
     },
     "output_type": "display_data"
    }
   ],
   "source": [
    "tamanho_populacao = 20\n",
    "limite = 3\n",
    "taxa_mutacao = 0.01\n",
    "numero_geracoes = 200\n",
    "\n",
    "\n",
    "ag = AlgoritimoGenetico(tamanho_populacao)\n",
    "resultado = ag.resolver(taxa_mutacao, numero_geracoes, espacos, valores, limite)\n",
    "\n",
    "for i in range(len(lista_produtos)):\n",
    "    if resultado[i] == '1':\n",
    "        print('Nome: %s R$ %s' % (lista_produtos[i].nome, \n",
    "                                  lista_produtos[i].valor))\n",
    "\n",
    "#for valor in ag.lista_solucoes:\n",
    "#    print(valor)\n",
    "\n",
    "plt.plot(ag.lista_solucoes)\n",
    "plt.title('Acompanhamento dos valores')\n",
    "plt.show();"
   ]
  }
 ],
 "metadata": {
  "interpreter": {
   "hash": "b3ba2566441a7c06988d0923437866b63cedc61552a5af99d1f4fb67d367b25f"
  },
  "kernelspec": {
   "display_name": "Python 3.8.8 ('base')",
   "language": "python",
   "name": "python3"
  },
  "language_info": {
   "codemirror_mode": {
    "name": "ipython",
    "version": 3
   },
   "file_extension": ".py",
   "mimetype": "text/x-python",
   "name": "python",
   "nbconvert_exporter": "python",
   "pygments_lexer": "ipython3",
   "version": "3.8.8"
  },
  "orig_nbformat": 4
 },
 "nbformat": 4,
 "nbformat_minor": 2
}
